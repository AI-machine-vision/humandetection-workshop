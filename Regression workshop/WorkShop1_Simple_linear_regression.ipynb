{
 "cells": [
  {
   "cell_type": "markdown",
   "id": "3cd696e0",
   "metadata": {},
   "source": [
    "# Workshop 1: Simple Linear Regression\n",
    "\n",
    "* There are 7 basic steps when you’re implementing linear regression:\n",
    "\n",
    "1. Import the packages and classes that you need.\n",
    "2. Provide data to work with, and eventually do appropriate transformations.\n",
    "3. Create a regression model and fit it with existing data.\n",
    "4. Check the results of model fitting to know whether the model is satisfactory.\n",
    "5. Apply the model for predictions.\n",
    "6. Checking the ERROR of your model.\n",
    "7. Let predict the unknown data."
   ]
  },
  {
   "cell_type": "markdown",
   "id": "008a9f1b",
   "metadata": {},
   "source": [
    "## Step 1: Import packages and classes"
   ]
  },
  {
   "cell_type": "code",
   "execution_count": 1,
   "id": "20a84314",
   "metadata": {},
   "outputs": [],
   "source": [
    "import numpy as np\n",
    "from sklearn.linear_model import LinearRegression\n",
    "import matplotlib.pyplot as plt"
   ]
  },
  {
   "attachments": {
    "image.png": {
     "image/png": "[encoded data removed]"
    }
   },
   "cell_type": "markdown",
   "id": "d5f4e3db",
   "metadata": {},
   "source": [
    "## Step 2: Provide data\n",
    "\n",
    "### - Create the data as input(x) and response(y) as below table:\n",
    "![image.png](attachment:image.png)"
   ]
  },
  {
   "cell_type": "code",
   "execution_count": 2,
   "id": "2b721b35",
   "metadata": {},
   "outputs": [],
   "source": [
    "x = np.array([________])\n",
    "y = np.array([________])"
   ]
  },
  {
   "cell_type": "markdown",
   "id": "35d3a31e",
   "metadata": {},
   "source": [
    "* Let visualize the data by scatter plot"
   ]
  },
  {
   "cell_type": "code",
   "execution_count": 3,
   "id": "5fb69632",
   "metadata": {
    "scrolled": true
   },
   "outputs": [
    {
     "data": {
      "text/plain": [
       "<matplotlib.collections.PathCollection at 0x1c63f1df550>"
      ]
     },
     "execution_count": 3,
     "metadata": {},
     "output_type": "execute_result"
    },
    {
     "data": {
      "image/png": "[encoded data removed]",
      "text/plain": [
       "<Figure size 360x360 with 1 Axes>"
      ]
     },
     "metadata": {
      "needs_background": "light"
     },
     "output_type": "display_data"
    }
   ],
   "source": [
    "plt.figure(figsize = (5,5))\n",
    "plt._____(___, ___)"
   ]
  },
  {
   "cell_type": "markdown",
   "id": "e68e3fa5",
   "metadata": {},
   "source": [
    "## Step 3: Create a model and fit it\n",
    "\n",
    "- The next step is to create a linear regression model and fit it using the existing data.\n",
    "- Create an instance of the class *LinearRegression*, which will represent the regression model:"
   ]
  },
  {
   "cell_type": "code",
   "execution_count": 4,
   "id": "1645fe57",
   "metadata": {},
   "outputs": [],
   "source": [
    "model = ________"
   ]
  },
  {
   "cell_type": "markdown",
   "id": "f4200661",
   "metadata": {},
   "source": [
    "- You should call *.reshape()* on x because this array must be two-dimensional, or more precisely, it must have one column and as many rows as necessary. That’s exactly what the argument (-1, 1) of .reshape() specifies."
   ]
  },
  {
   "cell_type": "code",
   "execution_count": 5,
   "id": "5665f0a8",
   "metadata": {},
   "outputs": [],
   "source": [
    "x = x._____((___, ___))"
   ]
  },
  {
   "cell_type": "markdown",
   "id": "f43a2664",
   "metadata": {},
   "source": [
    "- It’s time to start using the model. First, you need to call .fit() on model:\n",
    "- With .fit(), you calculate the optimal values of the weights 𝑏₀ and 𝑏₁, using the existing input and output, x and y, as the arguments. In other words, .fit() fits the model. "
   ]
  },
  {
   "cell_type": "code",
   "execution_count": 6,
   "id": "e3e633a4",
   "metadata": {},
   "outputs": [
    {
     "data": {
      "text/plain": [
       "LinearRegression()"
      ]
     },
     "execution_count": 6,
     "metadata": {},
     "output_type": "execute_result"
    }
   ],
   "source": [
    "model.___(x, y)"
   ]
  },
  {
   "cell_type": "markdown",
   "id": "422a4d5a",
   "metadata": {},
   "source": [
    "## Step 4: Get results\n",
    "- Once you have your model fitted, you can get the results to check whether the model works satisfactorily and to interpret it.\n",
    "\n",
    "- You can obtain the coefficient of determination, 𝑅², with .score() called on model:"
   ]
  },
  {
   "cell_type": "code",
   "execution_count": 7,
   "id": "15e95c96",
   "metadata": {},
   "outputs": [
    {
     "name": "stdout",
     "output_type": "stream",
     "text": [
      "coefficient of determination: 0.8176140781509658\n"
     ]
    }
   ],
   "source": [
    "r_sq = model._____(___, ___)\n",
    "print(f\"coefficient of determination: {r_sq}\")"
   ]
  },
  {
   "cell_type": "markdown",
   "id": "1fd1d231",
   "metadata": {},
   "source": [
    "- When you’re applying .score(), the arguments are also the predictor x and response y, and the return value is 𝑅².\n",
    "\n",
    "- The attributes of model are .intercept_, which represents the coefficient 𝑏₀, and .coef_, which represents 𝑏₁:"
   ]
  },
  {
   "cell_type": "code",
   "execution_count": 8,
   "id": "0deae2dc",
   "metadata": {},
   "outputs": [
    {
     "name": "stdout",
     "output_type": "stream",
     "text": [
      "intercept: 4.94859813084112\n",
      "slope: [0.61214953]\n"
     ]
    }
   ],
   "source": [
    "print(f\"intercept: {model._____}\")\n",
    "print(f\"slope: {model._____}\")"
   ]
  },
  {
   "cell_type": "markdown",
   "id": "23003091",
   "metadata": {},
   "source": [
    "According to above value, we can explain that...\n",
    "\n",
    "- The value of 𝑏₀ is approximately 4.95. This illustrates that your model predicts the response 4.95 when 𝑥 is zero. \n",
    "- The value 𝑏₁ = 0.61 means that the predicted response rises by 0.61 when 𝑥 is increased by one."
   ]
  },
  {
   "cell_type": "markdown",
   "id": "e0268047",
   "metadata": {},
   "source": [
    "## Step 5: Predict response\n",
    "- Once you have a satisfactory model, then you can use it for predictions with either existing or new data. To obtain the predicted response, use .predict():"
   ]
  },
  {
   "cell_type": "code",
   "execution_count": 10,
   "id": "a3b6a91b",
   "metadata": {},
   "outputs": [
    {
     "name": "stdout",
     "output_type": "stream",
     "text": [
      "predicted response:\n",
      "[11.07009346 14.13084112 20.25233645 26.37383178 32.4953271  41.67757009]\n"
     ]
    }
   ],
   "source": [
    "y_pred = model._____(_____)\n",
    "print(f\"predicted response:\\n{y_pred}\")"
   ]
  },
  {
   "attachments": {
    "image.png": {
     "image/png": "[encoded data removed]"
    }
   },
   "cell_type": "markdown",
   "id": "52e5122d",
   "metadata": {},
   "source": [
    "- You can also create the linear equation based on your coefficeints.\n",
    "\n",
    "\n",
    "![image.png](attachment:image.png)"
   ]
  },
  {
   "cell_type": "code",
   "execution_count": 11,
   "id": "654130ee",
   "metadata": {},
   "outputs": [
    {
     "name": "stdout",
     "output_type": "stream",
     "text": [
      "predicted response:\n",
      "[[11.07009346]\n",
      " [14.13084112]\n",
      " [20.25233645]\n",
      " [26.37383178]\n",
      " [32.4953271 ]\n",
      " [41.67757009]]\n"
     ]
    }
   ],
   "source": [
    "y_pred = _______ + _______ * _______\n",
    "print(f\"predicted response:\\n{y_pred}\")"
   ]
  },
  {
   "attachments": {
    "image-3.png": {
     "image/png": "[encoded data removed]"
    }
   },
   "cell_type": "markdown",
   "id": "fe264d08",
   "metadata": {},
   "source": [
    "## Step 6: Checking the ERROR\n",
    "\n",
    "- For linear regression problems, people typically use a Cost Function that measures the distance between the linear model’s predictions and the training examples; the objective is to minimize this distance.\n",
    "- Let’s consider the **Mean Square Error (MSE)** for a cost function.\n",
    "- MSE measures the average squared difference between an observation’s actual and predicted values. \n",
    "\n",
    "\n",
    "![image-3.png](attachment:image-3.png)"
   ]
  },
  {
   "cell_type": "code",
   "execution_count": 14,
   "id": "917eba4c",
   "metadata": {
    "scrolled": false
   },
   "outputs": [
    {
     "data": {
      "text/plain": [
       "[<matplotlib.lines.Line2D at 0x1c641bb3220>]"
      ]
     },
     "execution_count": 14,
     "metadata": {},
     "output_type": "execute_result"
    },
    {
     "data": {
      "image/png": "[encoded data removed]",
      "text/plain": [
       "<Figure size 360x360 with 1 Axes>"
      ]
     },
     "metadata": {
      "needs_background": "light"
     },
     "output_type": "display_data"
    }
   ],
   "source": [
    "plt.figure(figsize = (5,5))\n",
    "plt.scatter(x,y)\n",
    "plt.plot(x,y_pred, 'red')"
   ]
  },
  {
   "cell_type": "markdown",
   "id": "ecbbf863",
   "metadata": {},
   "source": [
    "- You can import the function for MSE and R-square from sklearn"
   ]
  },
  {
   "cell_type": "code",
   "execution_count": 19,
   "id": "4e2dc0cf",
   "metadata": {},
   "outputs": [],
   "source": [
    "from sklearn.metrics import mean_squared_error, r2_score"
   ]
  },
  {
   "attachments": {},
   "cell_type": "markdown",
   "id": "555d7522",
   "metadata": {},
   "source": [
    "- Find the Root Mean Square Error (RMSE)."
   ]
  },
  {
   "cell_type": "code",
   "execution_count": 17,
   "id": "083e3507",
   "metadata": {},
   "outputs": [
    {
     "name": "stdout",
     "output_type": "stream",
     "text": [
      "4.984477462716026\n"
     ]
    }
   ],
   "source": [
    "rmse = np._____(_____(_____,_____))\n",
    "print(rmse)"
   ]
  },
  {
   "cell_type": "markdown",
   "id": "15b261fc",
   "metadata": {},
   "source": [
    "- Also, we can see the R-square value of linear line as below"
   ]
  },
  {
   "cell_type": "code",
   "execution_count": 20,
   "id": "d8993aaf",
   "metadata": {},
   "outputs": [
    {
     "data": {
      "text/plain": [
       "0.8176140781509658"
      ]
     },
     "execution_count": 20,
     "metadata": {},
     "output_type": "execute_result"
    }
   ],
   "source": [
    "r2 = ______(___, ___)\n",
    "print(r2)"
   ]
  },
  {
   "cell_type": "markdown",
   "id": "43c48473",
   "metadata": {},
   "source": [
    "## Step 7: Predicting the new data with your model"
   ]
  },
  {
   "cell_type": "code",
   "execution_count": null,
   "id": "2d648557",
   "metadata": {},
   "outputs": [],
   "source": [
    "new_data = np.array(input(\"Input the number :\"))\n",
    "\n",
    "#we have to reshape the input data as training process\n",
    "predicted_val = model.predict(new_data.______(__, __))\n",
    "print(\"the predicted value is \", predicted_val[0])"
   ]
  }
 ],
 "metadata": {
  "kernelspec": {
   "display_name": "Python 3",
   "language": "python",
   "name": "python3"
  },
  "language_info": {
   "codemirror_mode": {
    "name": "ipython",
    "version": 3
   },
   "file_extension": ".py",
   "mimetype": "text/x-python",
   "name": "python",
   "nbconvert_exporter": "python",
   "pygments_lexer": "ipython3",
   "version": "3.8.3"
  }
 },
 "nbformat": 4,
 "nbformat_minor": 5
}
