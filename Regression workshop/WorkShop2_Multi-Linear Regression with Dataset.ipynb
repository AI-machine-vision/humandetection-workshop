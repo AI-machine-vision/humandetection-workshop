{
 "cells": [
  {
   "cell_type": "markdown",
   "id": "58cc74b2",
   "metadata": {},
   "source": [
    "# Workshop 2: Muti-Linear Regression with Data set \n",
    "- This is datset for predicting the health scores based on the personal information.\n",
    "- Such as weight (kg.), height (cm.), sleep (hr/night), alcohol (times/week) and work out(times/week).\n",
    "- The output will show the number 0 to 5 (0 means poor and 5 means very good health)"
   ]
  },
  {
   "cell_type": "markdown",
   "id": "2bd98b74",
   "metadata": {},
   "source": [
    "## Step 0. Import the data set by Pandas package"
   ]
  },
  {
   "cell_type": "code",
   "execution_count": null,
   "id": "32b80f58",
   "metadata": {},
   "outputs": [],
   "source": [
    "import pandas as pd"
   ]
  },
  {
   "cell_type": "markdown",
   "id": "5ca5e3b3",
   "metadata": {},
   "source": [
    "* We can use .read_csv() for importing the file"
   ]
  },
  {
   "cell_type": "code",
   "execution_count": null,
   "id": "3486c3fa",
   "metadata": {},
   "outputs": [],
   "source": [
    "df = pd.______(\"______.csv\")"
   ]
  },
  {
   "cell_type": "markdown",
   "id": "a6ec44c8",
   "metadata": {},
   "source": [
    "* Let see the example of 5 first row of data set"
   ]
  },
  {
   "cell_type": "code",
   "execution_count": null,
   "id": "cf2e2285",
   "metadata": {
    "scrolled": false
   },
   "outputs": [],
   "source": [
    "df.______()"
   ]
  },
  {
   "cell_type": "markdown",
   "id": "f249260b",
   "metadata": {},
   "source": [
    "## Step 1. Preparing Data for Input (x) and Output (y)"
   ]
  },
  {
   "cell_type": "code",
   "execution_count": null,
   "id": "0812f7c0",
   "metadata": {},
   "outputs": [],
   "source": [
    "x = df[['______']]\n",
    "y = df['______']"
   ]
  },
  {
   "cell_type": "markdown",
   "id": "08b46b56",
   "metadata": {},
   "source": [
    "* Let see the example of 5 first row of data set for x and y"
   ]
  },
  {
   "cell_type": "code",
   "execution_count": null,
   "id": "765cca71",
   "metadata": {},
   "outputs": [],
   "source": [
    "x.______()"
   ]
  },
  {
   "cell_type": "code",
   "execution_count": null,
   "id": "d46dcf81",
   "metadata": {
    "scrolled": true
   },
   "outputs": [],
   "source": [
    "y.______()"
   ]
  },
  {
   "cell_type": "markdown",
   "id": "94bf6e9b",
   "metadata": {},
   "source": [
    "* We can see the trend of each paired data by using seaborn.pairplot"
   ]
  },
  {
   "cell_type": "code",
   "execution_count": null,
   "id": "003f866f",
   "metadata": {
    "scrolled": true
   },
   "outputs": [],
   "source": [
    "import seaborn as sns\n",
    "\n",
    "sns.pairplot(df, x_vars=['weight (kg)','height (cm)', 'sleep (hr/night)','alcohol (times/week)','work out (times/week)'],\n",
    "             y_vars=['health score (0-5)'], height=4,kind='reg')"
   ]
  },
  {
   "cell_type": "markdown",
   "id": "6a7b682e",
   "metadata": {},
   "source": [
    "## Step 2. Create a model and fit it"
   ]
  },
  {
   "cell_type": "code",
   "execution_count": null,
   "id": "6510faca",
   "metadata": {},
   "outputs": [],
   "source": [
    "from sklearn.linear_model import LinearRegression\n",
    "\n",
    "model = ______\n",
    "\n",
    "#fitting the model\n",
    "model.______(___, ___)"
   ]
  },
  {
   "cell_type": "markdown",
   "id": "249cd733",
   "metadata": {},
   "source": [
    "## Step 3. Get the results (slope, interception and R-square)"
   ]
  },
  {
   "cell_type": "code",
   "execution_count": null,
   "id": "084d49f8",
   "metadata": {},
   "outputs": [],
   "source": [
    "print(f\"intercept: {______}\")\n",
    "print(f\"slope: {______}\")"
   ]
  },
  {
   "cell_type": "code",
   "execution_count": null,
   "id": "dde6c13a",
   "metadata": {},
   "outputs": [],
   "source": [
    "r_sq = model.______(______,______)\n",
    "print(f\"coefficient of determination: {r_sq}\")"
   ]
  },
  {
   "cell_type": "markdown",
   "id": "d3906a64",
   "metadata": {},
   "source": [
    "## Step 4. Checking the ERROR"
   ]
  },
  {
   "cell_type": "code",
   "execution_count": null,
   "id": "432e76ab",
   "metadata": {},
   "outputs": [],
   "source": [
    "from sklearn.metrics import mean_absolute_error, mean_squared_error\n",
    "\n",
    "#predict the output\n",
    "y_predict = model.predict(x)\n",
    "print('MSE: ', ______(___, ___)) #MSE\n",
    "print('MAE: ',______(___, ___)) #MAE"
   ]
  },
  {
   "cell_type": "markdown",
   "id": "4434a70e",
   "metadata": {},
   "source": [
    "## Step 5. Let predict health score from your new input data "
   ]
  },
  {
   "cell_type": "markdown",
   "id": "56f3b3da",
   "metadata": {},
   "source": [
    "- The input must arrange as same as the training set. --> **[Weight, Height, Sleep, Alcohol, Work out]**\n"
   ]
  },
  {
   "cell_type": "code",
   "execution_count": null,
   "id": "2f5062b4",
   "metadata": {},
   "outputs": [],
   "source": [
    "x_input = [ [_____________] ]\n",
    "model._______(x_input)"
   ]
  }
 ],
 "metadata": {
  "kernelspec": {
   "display_name": "Python 3",
   "language": "python",
   "name": "python3"
  },
  "language_info": {
   "codemirror_mode": {
    "name": "ipython",
    "version": 3
   },
   "file_extension": ".py",
   "mimetype": "text/x-python",
   "name": "python",
   "nbconvert_exporter": "python",
   "pygments_lexer": "ipython3",
   "version": "3.8.3"
  }
 },
 "nbformat": 4,
 "nbformat_minor": 5
}
