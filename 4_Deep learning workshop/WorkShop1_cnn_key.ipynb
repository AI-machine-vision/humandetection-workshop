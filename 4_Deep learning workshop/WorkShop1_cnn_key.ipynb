{
 "cells": [
  {
   "cell_type": "markdown",
   "metadata": {},
   "source": [
    "# Deep learning implementation\n",
    "\n",
    "Single Shot Detector based Keras"
   ]
  },
  {
   "cell_type": "markdown",
   "metadata": {},
   "source": [
    "## Simple Image Classification\n",
    "\n",
    "see more https://keras.io/examples/vision/mnist_convnet/\n",
    "\n",
    "images of handwritten digits"
   ]
  },
  {
   "cell_type": "markdown",
   "metadata": {},
   "source": [
    "![convert notebook to web app](https://github.com/AviatorMoser/keras-mnist-tutorial/blob/master/mnist.png?raw=1)"
   ]
  },
  {
   "cell_type": "markdown",
   "metadata": {},
   "source": [
    "### loading packet\n",
    "```python\n",
    "# loading python packet library\n",
    "import numpy as np\n",
    "from tensorflow import keras\n",
    "from tensorflow.keras import layers\n",
    "```"
   ]
  },
  {
   "cell_type": "code",
   "execution_count": null,
   "metadata": {},
   "outputs": [],
   "source": [
    "# loading python packet library\n",
    "import numpy as np\n",
    "from tensorflow import keras\n",
    "from tensorflow.keras import layers"
   ]
  },
  {
   "cell_type": "markdown",
   "metadata": {},
   "source": [
    "### prepare the data"
   ]
  },
  {
   "cell_type": "markdown",
   "metadata": {},
   "source": [
    "the idea of dividing your data set into two subsets:\n",
    "\n",
    "training set—a subset to train a model.\n",
    "test set—a subset to test the trained model.\n",
    "You could imagine slicing the single data set as follows:\n",
    "\n",
    "![convert notebook to web app](https://developers.google.com/static/machine-learning/crash-course/images/PartitionTwoSets.svg)"
   ]
  },
  {
   "cell_type": "markdown",
   "metadata": {},
   "source": [
    "Code description\n",
    "```python\n",
    "# number of classes\n",
    "num_classes = 10\n",
    "\n",
    "# define input shape of model\n",
    "input_shape = (28, 28, 1)\n",
    "\n",
    "# Load the data and split it between train and test sets\n",
    "(x_train, y_train), (x_test, y_test) = keras.datasets.mnist.load_data()\n",
    "```"
   ]
  },
  {
   "cell_type": "code",
   "execution_count": null,
   "metadata": {},
   "outputs": [],
   "source": [
    "# number of classes\n",
    "num_classes = 10\n",
    "\n",
    "# define input shape of model\n",
    "input_shape = (28, 28, 1)\n",
    "\n",
    "# Load the data and split it between train and test sets\n",
    "(x_train, y_train), (x_test, y_test) = keras.datasets.mnist.load_data()"
   ]
  },
  {
   "cell_type": "markdown",
   "metadata": {},
   "source": [
    "convert 1 to 1.00\n",
    "\n",
    "```python\n",
    "# change integers to 32-bit floating point numbers\n",
    "x_train = x_train.astype(\"float32\") \n",
    "x_test = x_test.astype(\"float32\")\n",
    "```"
   ]
  },
  {
   "cell_type": "code",
   "execution_count": null,
   "metadata": {},
   "outputs": [],
   "source": [
    "# change integers to 32-bit floating point numbers\n",
    "x_train = x_train.astype(\"float32\") \n",
    "x_test = x_test.astype(\"float32\")"
   ]
  },
  {
   "cell_type": "markdown",
   "metadata": {},
   "source": [
    "convert [0, 255] to [0, 1]\n",
    "\n",
    "```python\n",
    "# normalize each value for each pixel for the entire vector for each input\n",
    "x_train = x_train / 255 \n",
    "x_test = x_test / 255\n",
    "```"
   ]
  },
  {
   "cell_type": "code",
   "execution_count": null,
   "metadata": {},
   "outputs": [],
   "source": [
    "# normalize each value for each pixel for the entire vector for each input\n",
    "x_train = x_train / 255 \n",
    "x_test = x_test / 255"
   ]
  },
  {
   "cell_type": "markdown",
   "metadata": {},
   "source": [
    "```python\n",
    "# Make sure images have shape (28, 28, 1)\n",
    "x_train = np.expand_dims(x_train, -1)\n",
    "x_test = np.expand_dims(x_test, -1)\n",
    "```"
   ]
  },
  {
   "cell_type": "code",
   "execution_count": null,
   "metadata": {},
   "outputs": [],
   "source": [
    "# Make sure images have shape (28, 28, 1)\n",
    "x_train = np.expand_dims(x_train, -1)\n",
    "x_test = np.expand_dims(x_test, -1)"
   ]
  },
  {
   "cell_type": "markdown",
   "metadata": {},
   "source": [
    "```python\n",
    "# Check size of image\n",
    "print(\"x_train shape:\", x_train.shape)\n",
    "print(x_train.shape[0], \"train samples\")\n",
    "print(x_test.shape[0], \"test samples\")\n",
    "```"
   ]
  },
  {
   "cell_type": "code",
   "execution_count": null,
   "metadata": {},
   "outputs": [],
   "source": [
    "# Check size of image\n",
    "print(\"x_train shape:\", x_train.shape)\n",
    "print(x_train.shape[0], \"train samples\")\n",
    "print(x_test.shape[0], \"test samples\")"
   ]
  },
  {
   "cell_type": "markdown",
   "metadata": {},
   "source": [
    "convert class vectors to binary class matrices\n",
    "[0, 1, 3] --> [1 0 0 0, 0 1 0 0, 0 0 0 1]\n",
    "\n",
    "\n",
    "```python\n",
    "# convert class vectors to binary class matrices\n",
    "y_train = keras.utils.to_categorical(y_train, num_classes)\n",
    "y_test = keras.utils.to_categorical(y_test, num_classes)\n",
    "```"
   ]
  },
  {
   "cell_type": "code",
   "execution_count": null,
   "metadata": {},
   "outputs": [],
   "source": [
    "# convert class vectors to binary class matrices\n",
    "y_train = keras.utils.to_categorical(y_train, num_classes)\n",
    "y_test = keras.utils.to_categorical(y_test, num_classes)"
   ]
  },
  {
   "cell_type": "markdown",
   "metadata": {},
   "source": [
    "### build the model"
   ]
  },
  {
   "cell_type": "markdown",
   "metadata": {},
   "source": [
    "![convert notebook to web app](https://raw.githubusercontent.com/AviatorMoser/keras-mnist-tutorial/master/convolution.gif)\n",
    "\n",
    "Convolution applies kernels (filters) that traverse through each image and generate feature maps.\n",
    "\n",
    "In the above example, the image is a 5 x 5 matrix and the kernel going over it is a 3 x 3 matrix. A dot product operation takes place between the image and the kernel and the convolved feature is generated. Each kernel in a CNN learns a different characteristic of an image.\n",
    "\n",
    "Kernels are often used in photoediting software to apply blurring, edge detection, sharpening, etc."
   ]
  },
  {
   "cell_type": "markdown",
   "metadata": {},
   "source": [
    "![convert notebook to web app](https://github.com/AviatorMoser/keras-mnist-tutorial/blob/master/kernels.png?raw=1)\n",
    "\n",
    "Kernels in deep learning networks are used in similar ways, i.e. highlighting some feature. Combined with a system called max pooling, the non-highlighted elements are discarded from each feature map, leaving only the features of interest, reducing the number of learned parameters, and decreasing the computational cost (e.g. system memory)."
   ]
  },
  {
   "cell_type": "markdown",
   "metadata": {},
   "source": [
    "![convert notebook to web app](https://github.com/AviatorMoser/keras-mnist-tutorial/blob/master/max_pooling.png?raw=1)\n",
    "\n",
    "We can also take convolutions of convolutions -- we can stack as many convolutions as we want, as long as there are enough pixels to fit a kernel."
   ]
  },
  {
   "cell_type": "markdown",
   "metadata": {},
   "source": [
    "code description\n",
    "```python\n",
    "# define a linear stack of layers\n",
    "keras.Sequential([ layers ])\n",
    "\n",
    "# a convolution kernel with activation function\n",
    "layers.Conv2D(filters=32, kernel_size=(3, 3), activation=\"relu\")\n",
    "\n",
    "# Pool the max values over a 2x2 kernel\n",
    "layers.MaxPooling2D(pool_size=(2, 2))\n",
    "\n",
    "# Flatten final 4x4x64 output matrix into a 1024-length vector\n",
    "layers.Flatten(),\n",
    "\n",
    "# 50% dropout of randomly selected nodes\n",
    "layers.Dropout(0.5),\n",
    "\n",
    "# final 10 FCN nodes & softmax activation\n",
    "layers.Dense(num_classes, activation=\"softmax\"),\n",
    "\n",
    "# method summarizes detail of model\n",
    "model.summary()\n",
    "```"
   ]
  },
  {
   "cell_type": "code",
   "execution_count": null,
   "metadata": {},
   "outputs": [],
   "source": [
    "model = keras.Sequential(\n",
    "    [\n",
    "        # define input shape of model\n",
    "        keras.Input(shape=input_shape),\n",
    "        # 32 different 3x3 kernels -- so 32 feature maps\n",
    "        layers.Conv2D(32, kernel_size=(3, 3), activation=\"relu\"),\n",
    "        # Pool the max values over a 2x2 kernel\n",
    "        layers.MaxPooling2D(pool_size=(2, 2)),\n",
    "         # 64 different 3x3 kernels -- so 64 feature maps\n",
    "        layers.Conv2D(64, kernel_size=(3, 3), activation=\"relu\"),\n",
    "        # Pool the max values over a 2x2 kernel\n",
    "        layers.MaxPooling2D(pool_size=(2, 2)),\n",
    "        # Flatten final 4x4x64 output matrix into a 1024-length vector\n",
    "        layers.Flatten(),\n",
    "        # 50% dropout of randomly selected nodes\n",
    "        layers.Dropout(0.5),\n",
    "        # final 10 FCN nodes & softmax activation\n",
    "        layers.Dense(num_classes, activation=\"softmax\"),\n",
    "    ]\n",
    ")\n",
    "\n",
    "# method summarizes detail of model\n",
    "model.summary()"
   ]
  },
  {
   "cell_type": "markdown",
   "metadata": {},
   "source": [
    "### train the model\n",
    "\n",
    "The loss function we'll use here is called categorical cross-entropy, and is a loss function well-suited to comparing two probability distributions.\n",
    "\n",
    "The optimizer helps determine how quickly the model learns through gradient descent. The rate at which descends a gradient is called the learning rate."
   ]
  },
  {
   "cell_type": "markdown",
   "metadata": {},
   "source": [
    "code description\n",
    "```python\n",
    "# define batch size\n",
    "batch_size = 128\n",
    "\n",
    "# define number of epochs\n",
    "epochs = 5\n",
    "\n",
    "# define loss function, optimizer and evaluation metrics\n",
    "model.compile(loss=\"categorical_crossentropy\", \n",
    "              optimizer=\"adam\", \n",
    "              metrics=[\"accuracy\"])\n",
    "\n",
    "# train model\n",
    "model.fit(x_train, y_train, \n",
    "          batch_size=batch_size, \n",
    "          epochs=epochs, \n",
    "          validation_split=0.1)\n",
    "```"
   ]
  },
  {
   "cell_type": "code",
   "execution_count": null,
   "metadata": {},
   "outputs": [],
   "source": [
    "# define batch size\n",
    "batch_size = 128\n",
    "\n",
    "# define number of epochs\n",
    "epochs = 5\n",
    "\n",
    "# define loss function, optimizer and evaluation metrics\n",
    "model.compile(loss=\"categorical_crossentropy\", \n",
    "              optimizer=\"adam\", \n",
    "              metrics=[\"accuracy\"])\n",
    "\n",
    "# train model\n",
    "model.fit(x_train, y_train, \n",
    "          batch_size=batch_size, \n",
    "          epochs=epochs, \n",
    "          validation_split=0.1)"
   ]
  },
  {
   "cell_type": "markdown",
   "metadata": {},
   "source": [
    "### evaluate the trained model"
   ]
  },
  {
   "cell_type": "markdown",
   "metadata": {},
   "source": [
    "```python\n",
    "# test model with new samples\n",
    "score = model.evaluate(x_test, y_test, verbose=0)\n",
    "```"
   ]
  },
  {
   "cell_type": "code",
   "execution_count": null,
   "metadata": {},
   "outputs": [],
   "source": [
    "# test model with new samples\n",
    "score = model.evaluate(x_test, y_test, verbose=0)\n",
    "print(\"Test loss:\", score[0])\n",
    "print(\"Test accuracy:\", score[1])"
   ]
  }
 ],
 "metadata": {
  "kernelspec": {
   "display_name": "Python 3.10.4 64-bit",
   "language": "python",
   "name": "python3"
  },
  "language_info": {
   "name": "python",
   "version": "3.10.4"
  },
  "orig_nbformat": 4,
  "vscode": {
   "interpreter": {
    "hash": "aee8b7b246df8f9039afb4144a1f6fd8d2ca17a180786b69acc140d282b71a49"
   }
  }
 },
 "nbformat": 4,
 "nbformat_minor": 2
}
