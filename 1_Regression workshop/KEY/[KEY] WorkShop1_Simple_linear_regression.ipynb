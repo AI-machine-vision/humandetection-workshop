{
 "cells": [
  {
   "cell_type": "markdown",
   "id": "1ff468e7",
   "metadata": {},
   "source": [
    "https://realpython.com/linear-regression-in-python/"
   ]
  },
  {
   "cell_type": "markdown",
   "id": "3cd696e0",
   "metadata": {},
   "source": [
    "# Simple Linear Regression\n",
    "\n",
    "* There are 7 basic steps when you’re implementing linear regression:\n",
    "\n",
    "1. Import the packages and classes that you need.\n",
    "2. Provide data to work with, and eventually do appropriate transformations.\n",
    "3. Create a regression model and fit it with existing data.\n",
    "4. Check the results of model fitting to know whether the model is satisfactory.\n",
    "5. Apply the model for predictions.\n",
    "6. Checking the ERROR of your model.\n",
    "7. Let predict the unknown data."
   ]
  },
  {
   "cell_type": "markdown",
   "id": "008a9f1b",
   "metadata": {},
   "source": [
    "## Step 1: Import packages and classes"
   ]
  },
  {
   "cell_type": "code",
   "execution_count": null,
   "id": "20a84314",
   "metadata": {},
   "outputs": [],
   "source": [
    "import numpy as np\n",
    "from sklearn.linear_model import LinearRegression\n",
    "import matplotlib.pyplot as plt"
   ]
  },
  {
   "attachments": {
    "image.png": {
     "image/png": "[encoded data removed]"
    }
   },
   "cell_type": "markdown",
   "id": "d5f4e3db",
   "metadata": {},
   "source": [
    "## Step 2: Provide data\n",
    "\n",
    "- Create the data as input(x) and response(y) as below table:\n",
    "![image.png](attachment:image.png)"
   ]
  },
  {
   "cell_type": "code",
   "execution_count": null,
   "id": "2b721b35",
   "metadata": {},
   "outputs": [],
   "source": [
    "x = np.array([10, 15, 25, 35, 45, 60])\n",
    "y = np.array([5, 20, 22, 30, 25, 44])"
   ]
  },
  {
   "cell_type": "markdown",
   "id": "35d3a31e",
   "metadata": {},
   "source": [
    "* Let visulize the data by scatter plot"
   ]
  },
  {
   "cell_type": "code",
   "execution_count": null,
   "id": "5fb69632",
   "metadata": {
    "scrolled": true
   },
   "outputs": [],
   "source": [
    "plt.figure(figsize = (5,5))\n",
    "plt.scatter(x,y)"
   ]
  },
  {
   "cell_type": "markdown",
   "id": "e68e3fa5",
   "metadata": {},
   "source": [
    "## Step 3: Create a model and fit it\n",
    "\n",
    "- The next step is to create a linear regression model and fit it using the existing data.\n",
    "- Create an instance of the class *LinearRegression*, which will represent the regression model:"
   ]
  },
  {
   "cell_type": "code",
   "execution_count": null,
   "id": "1645fe57",
   "metadata": {},
   "outputs": [],
   "source": [
    "model = LinearRegression()"
   ]
  },
  {
   "cell_type": "markdown",
   "id": "f4200661",
   "metadata": {},
   "source": [
    "- You should call *.reshape()* on x because this array must be two-dimensional, or more precisely, it must have one column and as many rows as necessary. That’s exactly what the argument (-1, 1) of .reshape() specifies."
   ]
  },
  {
   "cell_type": "code",
   "execution_count": null,
   "id": "5665f0a8",
   "metadata": {},
   "outputs": [],
   "source": [
    "x = x.reshape((-1, 1))"
   ]
  },
  {
   "cell_type": "markdown",
   "id": "f43a2664",
   "metadata": {},
   "source": [
    "- It’s time to start using the model. First, you need to call .fit() on model:\n",
    "- With .fit(), you calculate the optimal values of the weights 𝑏₀ and 𝑏₁, using the existing input and output, x and y, as the arguments. In other words, .fit() fits the model. "
   ]
  },
  {
   "cell_type": "code",
   "execution_count": null,
   "id": "e3e633a4",
   "metadata": {},
   "outputs": [],
   "source": [
    "model.fit(x, y)"
   ]
  },
  {
   "cell_type": "markdown",
   "id": "422a4d5a",
   "metadata": {},
   "source": [
    "## Step 4: Get results\n",
    "- Once you have your model fitted, you can get the results to check whether the model works satisfactorily and to interpret it.\n",
    "\n",
    "- You can obtain the coefficient of determination, 𝑅², with .score() called on model:"
   ]
  },
  {
   "cell_type": "code",
   "execution_count": null,
   "id": "15e95c96",
   "metadata": {},
   "outputs": [],
   "source": [
    "r_sq = model.score(x, y)\n",
    "print(f\"coefficient of determination: {r_sq}\")"
   ]
  },
  {
   "cell_type": "markdown",
   "id": "1fd1d231",
   "metadata": {},
   "source": [
    "- When you’re applying .score(), the arguments are also the predictor x and response y, and the return value is 𝑅².\n",
    "\n",
    "- The attributes of model are .intercept_, which represents the coefficient 𝑏₀, and .coef_, which represents 𝑏₁:"
   ]
  },
  {
   "cell_type": "code",
   "execution_count": null,
   "id": "0deae2dc",
   "metadata": {},
   "outputs": [],
   "source": [
    "print(f\"intercept: {model.intercept_}\")\n",
    "print(f\"slope: {model.coef_}\")"
   ]
  },
  {
   "cell_type": "code",
   "execution_count": null,
   "id": "500d1605",
   "metadata": {},
   "outputs": [],
   "source": [
    "model.coef_"
   ]
  },
  {
   "cell_type": "markdown",
   "id": "23003091",
   "metadata": {},
   "source": [
    "According to above value, we can explain that...\n",
    "\n",
    "- The value of 𝑏₀ is approximately 4.95. This illustrates that your model predicts the response 4.95 when 𝑥 is zero. \n",
    "- The value 𝑏₁ = 0.61 means that the predicted response rises by 0.61 when 𝑥 is increased by one."
   ]
  },
  {
   "cell_type": "markdown",
   "id": "e0268047",
   "metadata": {},
   "source": [
    "## Step 5: Predict response\n",
    "- Once you have a satisfactory model, then you can use it for predictions with either existing or new data. To obtain the predicted response, use .predict():"
   ]
  },
  {
   "cell_type": "code",
   "execution_count": null,
   "id": "a3b6a91b",
   "metadata": {},
   "outputs": [],
   "source": [
    "y_pred = model.predict(x)\n",
    "print(f\"predicted response:\\n{y_pred}\")"
   ]
  },
  {
   "cell_type": "markdown",
   "id": "52e5122d",
   "metadata": {},
   "source": [
    "- You can also create the eqa"
   ]
  },
  {
   "cell_type": "code",
   "execution_count": null,
   "id": "654130ee",
   "metadata": {},
   "outputs": [],
   "source": [
    "y_pred = model.intercept_ + model.coef_ * x\n",
    "print(f\"predicted response:\\n{y_pred}\")"
   ]
  },
  {
   "attachments": {
    "image-3.png": {
     "image/png": "[encoded data removed]"
    }
   },
   "cell_type": "markdown",
   "id": "fe264d08",
   "metadata": {},
   "source": [
    "## Step 6: Checking the ERROR\n",
    "\n",
    "- For linear regression problems, people typically use a Cost Function that measures the distance between the linear model’s predictions and the training examples; the objective is to minimize this distance.\n",
    "- Let’s consider the **Mean Square Error (MSE)** for a cost function.\n",
    "- MSE measures the average squared difference between an observation’s actual and predicted values. \n",
    "\n",
    "\n",
    "![image-3.png](attachment:image-3.png)"
   ]
  },
  {
   "cell_type": "code",
   "execution_count": null,
   "id": "917eba4c",
   "metadata": {
    "scrolled": true
   },
   "outputs": [],
   "source": [
    "plt.figure(figsize = (5,5))\n",
    "plt.scatter(x,y)\n",
    "plt.plot(x,y_pred, 'red')"
   ]
  },
  {
   "cell_type": "code",
   "execution_count": null,
   "id": "4e2dc0cf",
   "metadata": {},
   "outputs": [],
   "source": [
    "from sklearn.metrics import mean_squared_error, r2_score"
   ]
  },
  {
   "cell_type": "code",
   "execution_count": null,
   "id": "083e3507",
   "metadata": {},
   "outputs": [],
   "source": [
    "rmse = np.sqrt(mean_squared_error(y,y_pred))\n",
    "print(rmse)"
   ]
  },
  {
   "cell_type": "code",
   "execution_count": null,
   "id": "d8993aaf",
   "metadata": {},
   "outputs": [],
   "source": [
    "r2 = r2_score(y,y_pred)\n",
    "r2"
   ]
  },
  {
   "cell_type": "markdown",
   "id": "43c48473",
   "metadata": {},
   "source": [
    "## Step 7: Predicting the new data with your model"
   ]
  },
  {
   "cell_type": "code",
   "execution_count": null,
   "id": "2d648557",
   "metadata": {},
   "outputs": [],
   "source": [
    "new_data = np.array(input(\"Input the number :\"))\n",
    "predicted_val = model.predict(new_data.reshape(-1,1))\n",
    "print(\"the predicted value is \", predicted_val[0])"
   ]
  },
  {
   "cell_type": "code",
   "execution_count": null,
   "id": "6368e91c",
   "metadata": {},
   "outputs": [],
   "source": []
  }
 ],
 "metadata": {
  "kernelspec": {
   "display_name": "Python 3.10.4 64-bit",
   "language": "python",
   "name": "python3"
  },
  "language_info": {
   "codemirror_mode": {
    "name": "ipython",
    "version": 3
   },
   "file_extension": ".py",
   "mimetype": "text/x-python",
   "name": "python",
   "nbconvert_exporter": "python",
   "pygments_lexer": "ipython3",
   "version": "3.10.4"
  },
  "vscode": {
   "interpreter": {
    "hash": "aee8b7b246df8f9039afb4144a1f6fd8d2ca17a180786b69acc140d282b71a49"
   }
  }
 },
 "nbformat": 4,
 "nbformat_minor": 5
}
