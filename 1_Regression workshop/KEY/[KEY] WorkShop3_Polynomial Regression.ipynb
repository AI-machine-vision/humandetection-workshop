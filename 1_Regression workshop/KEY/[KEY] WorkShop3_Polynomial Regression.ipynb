{
 "cells": [
  {
   "cell_type": "markdown",
   "id": "6f9030f0",
   "metadata": {},
   "source": [
    "https://towardsdatascience.com/polynomial-regression-bbe8b9d97491"
   ]
  },
  {
   "cell_type": "markdown",
   "id": "c3eb3ab1",
   "metadata": {},
   "source": [
    "# Polynomial Regression"
   ]
  },
  {
   "cell_type": "markdown",
   "id": "d9b08110",
   "metadata": {},
   "source": [
    "## Step 1: Import packages and classes"
   ]
  },
  {
   "cell_type": "code",
   "execution_count": null,
   "id": "96524245",
   "metadata": {},
   "outputs": [],
   "source": [
    "import numpy as np\n",
    "import matplotlib.pyplot as plt\n",
    "from sklearn.linear_model import LinearRegression"
   ]
  },
  {
   "cell_type": "markdown",
   "id": "d777a999",
   "metadata": {},
   "source": [
    "## Step 2: Provide data by random data"
   ]
  },
  {
   "cell_type": "code",
   "execution_count": null,
   "id": "4f97e69f",
   "metadata": {},
   "outputs": [],
   "source": [
    "np.random.seed(0)\n",
    "x = 2 - 3 * np.random.normal(0, 1, 20)\n",
    "y = x - 2 * (x ** 2) + 0.5 * (x ** 3) + np.random.normal(-3, 3, 20)"
   ]
  },
  {
   "cell_type": "markdown",
   "id": "c41861e2",
   "metadata": {},
   "source": [
    "- Visulize the data by scatter plot"
   ]
  },
  {
   "cell_type": "code",
   "execution_count": null,
   "id": "1c2287ca",
   "metadata": {},
   "outputs": [],
   "source": [
    "plt.scatter(x,y, s=10)\n",
    "plt.show()"
   ]
  },
  {
   "cell_type": "markdown",
   "id": "9e9e1db2",
   "metadata": {},
   "source": [
    "## Step 3: Let implement on this dataset by Simple linear regression"
   ]
  },
  {
   "cell_type": "markdown",
   "id": "6ff62bdd",
   "metadata": {},
   "source": [
    "- Do not forget to reshape of input (x)"
   ]
  },
  {
   "cell_type": "code",
   "execution_count": null,
   "id": "6bb7d75e",
   "metadata": {},
   "outputs": [],
   "source": [
    "x = x.reshape(-1,1)"
   ]
  },
  {
   "cell_type": "code",
   "execution_count": null,
   "id": "28f85ae8",
   "metadata": {},
   "outputs": [],
   "source": [
    "model = LinearRegression()\n",
    "model.fit(x, y)"
   ]
  },
  {
   "cell_type": "markdown",
   "id": "5c367c98",
   "metadata": {},
   "source": [
    "## Step 4: Let predict the model and plot the line"
   ]
  },
  {
   "cell_type": "code",
   "execution_count": null,
   "id": "bbebf5ea",
   "metadata": {},
   "outputs": [],
   "source": [
    "y_pred = model.predict(x)"
   ]
  },
  {
   "cell_type": "markdown",
   "id": "41e79fc8",
   "metadata": {},
   "source": [
    "### Visualize regression line and original data"
   ]
  },
  {
   "cell_type": "code",
   "execution_count": null,
   "id": "445f9150",
   "metadata": {
    "scrolled": false
   },
   "outputs": [],
   "source": [
    "plt.scatter(x, y, s=10)\n",
    "plt.plot(x, y_pred, color='r')\n",
    "plt.show()"
   ]
  },
  {
   "cell_type": "markdown",
   "id": "2498c156",
   "metadata": {},
   "source": [
    "## Step 5: Checking the Root Mean Squared Error"
   ]
  },
  {
   "cell_type": "code",
   "execution_count": null,
   "id": "f33abf8c",
   "metadata": {},
   "outputs": [],
   "source": [
    "from sklearn.metrics import mean_squared_error, r2_score"
   ]
  },
  {
   "cell_type": "code",
   "execution_count": null,
   "id": "86b953d0",
   "metadata": {},
   "outputs": [],
   "source": [
    "rmse = np.sqrt(mean_squared_error(y,y_pred))\n",
    "print(rmse)"
   ]
  },
  {
   "cell_type": "code",
   "execution_count": null,
   "id": "ad1b9bbd",
   "metadata": {},
   "outputs": [],
   "source": [
    "r_sq = r2_score(y,y_pred)\n",
    "print(r_sq)"
   ]
  },
  {
   "cell_type": "markdown",
   "id": "4ac924ad",
   "metadata": {},
   "source": [
    "## Now, we are going to do Polynomial Regression\n",
    "\n",
    "- First, let define the degree = 2.\n",
    "- Again, change the degree to 3. \n",
    "- Notice the R-square and Error of regression.\n"
   ]
  },
  {
   "cell_type": "code",
   "execution_count": null,
   "id": "b071ef6f",
   "metadata": {},
   "outputs": [],
   "source": [
    "from sklearn.linear_model import LinearRegression\n",
    "from sklearn.preprocessing import PolynomialFeatures #สำหรับกำหนดค่าเริ่มต้นให้กับ model แบบ polynomial\n",
    "\n",
    "poly_feature = PolynomialFeatures(degree=2) # สามารถเปลี่ยน degree ได้\n",
    "x_poly = poly_feature.fit_transform(x)\n",
    "\n",
    "model = LinearRegression()\n",
    "model.fit(x_poly, y)\n",
    "\n",
    "y_poly_predict = model.predict(x_poly)"
   ]
  },
  {
   "cell_type": "markdown",
   "id": "298da816",
   "metadata": {},
   "source": [
    "### calculate the rmse\n"
   ]
  },
  {
   "cell_type": "code",
   "execution_count": null,
   "id": "5d12b846",
   "metadata": {},
   "outputs": [],
   "source": [
    "rmse = np.sqrt(mean_squared_error(y,y_poly_predict))\n",
    "print(rmse)"
   ]
  },
  {
   "cell_type": "markdown",
   "id": "936a3824",
   "metadata": {},
   "source": [
    "### calculate R-square"
   ]
  },
  {
   "cell_type": "code",
   "execution_count": null,
   "id": "e5d6c653",
   "metadata": {},
   "outputs": [],
   "source": [
    "r2 = r2_score(y,y_poly_predict)\n",
    "print(r2)"
   ]
  },
  {
   "cell_type": "markdown",
   "id": "443af5c3",
   "metadata": {},
   "source": [
    "### Visualize regression line and original data"
   ]
  },
  {
   "cell_type": "code",
   "execution_count": null,
   "id": "2fd22e27",
   "metadata": {},
   "outputs": [],
   "source": [
    "# sort the values of x before line plot\n",
    "import operator\n",
    "sort_axis = operator.itemgetter(0)\n",
    "sorted_zip = sorted(zip(x,y_poly_predict), key=sort_axis)\n",
    "x_new, y_poly_predict = zip(*sorted_zip)\n",
    "plt.plot(x_new, y_poly_predict, color='red')\n",
    "plt.scatter(x,y, s=10)\n",
    "plt.show()"
   ]
  }
 ],
 "metadata": {
  "kernelspec": {
   "display_name": "Python 3",
   "language": "python",
   "name": "python3"
  },
  "language_info": {
   "codemirror_mode": {
    "name": "ipython",
    "version": 3
   },
   "file_extension": ".py",
   "mimetype": "text/x-python",
   "name": "python",
   "nbconvert_exporter": "python",
   "pygments_lexer": "ipython3",
   "version": "3.8.3"
  }
 },
 "nbformat": 4,
 "nbformat_minor": 5
}
