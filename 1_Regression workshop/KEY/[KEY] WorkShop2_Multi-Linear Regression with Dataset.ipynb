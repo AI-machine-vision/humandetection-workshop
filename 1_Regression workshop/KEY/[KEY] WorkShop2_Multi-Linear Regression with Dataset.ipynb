{
 "cells": [
  {
   "cell_type": "markdown",
   "id": "4264bb61",
   "metadata": {},
   "source": [
    "https://www.w3schools.com/Python/python_ml_multiple_regression.asp"
   ]
  },
  {
   "cell_type": "markdown",
   "id": "58cc74b2",
   "metadata": {},
   "source": [
    "# Workshop 2: Muti-Linear Regression with Data set "
   ]
  },
  {
   "cell_type": "code",
   "execution_count": null,
   "id": "32b80f58",
   "metadata": {},
   "outputs": [],
   "source": [
    "import pandas as pd"
   ]
  },
  {
   "cell_type": "markdown",
   "id": "5ca5e3b3",
   "metadata": {},
   "source": [
    "* We can use .read_csv() for importing the file"
   ]
  },
  {
   "cell_type": "code",
   "execution_count": null,
   "id": "3486c3fa",
   "metadata": {},
   "outputs": [],
   "source": [
    "df = pd.read_csv(\"dataset for regression.csv\")"
   ]
  },
  {
   "cell_type": "markdown",
   "id": "a6ec44c8",
   "metadata": {},
   "source": [
    "* Let see the example of 5 first row of data set"
   ]
  },
  {
   "cell_type": "code",
   "execution_count": null,
   "id": "cf2e2285",
   "metadata": {
    "scrolled": true
   },
   "outputs": [],
   "source": [
    "df.head()"
   ]
  },
  {
   "cell_type": "markdown",
   "id": "f249260b",
   "metadata": {},
   "source": [
    "## Step 1. Preparing Data for Input (x) and Output (y)"
   ]
  },
  {
   "cell_type": "code",
   "execution_count": null,
   "id": "0812f7c0",
   "metadata": {},
   "outputs": [],
   "source": [
    "x = df[['weight (kg)','height (cm)', 'sleep (hr/night)','alcohol (times/week)','work out (times/week)']]\n",
    "y = df['health score (0-5)']"
   ]
  },
  {
   "cell_type": "markdown",
   "id": "08b46b56",
   "metadata": {},
   "source": [
    "* Let see the example of 5 first row of data set for x and y"
   ]
  },
  {
   "cell_type": "code",
   "execution_count": null,
   "id": "765cca71",
   "metadata": {},
   "outputs": [],
   "source": [
    "x.head()"
   ]
  },
  {
   "cell_type": "code",
   "execution_count": null,
   "id": "d46dcf81",
   "metadata": {
    "scrolled": true
   },
   "outputs": [],
   "source": [
    "y.head()"
   ]
  },
  {
   "cell_type": "markdown",
   "id": "94bf6e9b",
   "metadata": {},
   "source": [
    "* We can see the trend of each paired data by using seaborn.pairplot"
   ]
  },
  {
   "cell_type": "code",
   "execution_count": null,
   "id": "003f866f",
   "metadata": {
    "scrolled": true
   },
   "outputs": [],
   "source": [
    "import seaborn as sns\n",
    "\n",
    "sns.pairplot(df, x_vars=['weight (kg)','height (cm)', 'sleep (hr/night)','alcohol (times/week)','work out (times/week)'],\n",
    "             y_vars=['health score (0-5)'], height=4,kind='reg')"
   ]
  },
  {
   "cell_type": "markdown",
   "id": "6a7b682e",
   "metadata": {},
   "source": [
    "## Step 2. Create a model and fit it"
   ]
  },
  {
   "cell_type": "code",
   "execution_count": null,
   "id": "6510faca",
   "metadata": {},
   "outputs": [],
   "source": [
    "from sklearn.linear_model import LinearRegression\n",
    "\n",
    "model = LinearRegression()\n",
    "model.fit(x, y)"
   ]
  },
  {
   "cell_type": "markdown",
   "id": "249cd733",
   "metadata": {},
   "source": [
    "## Step 3. Get the results (slope, interception and R-square)"
   ]
  },
  {
   "cell_type": "code",
   "execution_count": null,
   "id": "084d49f8",
   "metadata": {},
   "outputs": [],
   "source": [
    "print(f\"intercept: {model.coef_}\")\n",
    "print(f\"slope: {model.intercept_}\")"
   ]
  },
  {
   "cell_type": "code",
   "execution_count": null,
   "id": "dde6c13a",
   "metadata": {},
   "outputs": [],
   "source": [
    "r_sq = model.score(x,y)\n",
    "print(f\"coefficient of determination: {r_sq}\")"
   ]
  },
  {
   "cell_type": "markdown",
   "id": "d3906a64",
   "metadata": {},
   "source": [
    "## Step 4. Checking the ERROR"
   ]
  },
  {
   "cell_type": "code",
   "execution_count": null,
   "id": "432e76ab",
   "metadata": {},
   "outputs": [],
   "source": [
    "from sklearn.metrics import mean_absolute_error, mean_squared_error\n",
    "\n",
    "y_predict = model.predict(x)\n",
    "print('MSE: ', mean_squared_error(y, y_predict)) #MSE\n",
    "print('MAE: ',mean_absolute_error(y, y_predict)) #MAE"
   ]
  },
  {
   "cell_type": "markdown",
   "id": "4434a70e",
   "metadata": {},
   "source": [
    "## Step 5. Let predict health score from your new input data "
   ]
  },
  {
   "cell_type": "markdown",
   "id": "56f3b3da",
   "metadata": {},
   "source": [
    "- The input must arrange as same as the training set. --> [Weight, Height, Sleep, Alcohol, Work out]"
   ]
  },
  {
   "cell_type": "code",
   "execution_count": null,
   "id": "2f5062b4",
   "metadata": {},
   "outputs": [],
   "source": [
    "x_input = [ [70,170,5,1,0] ]\n",
    "model.predict(x_input)"
   ]
  }
 ],
 "metadata": {
  "kernelspec": {
   "display_name": "Python 3.10.4 64-bit",
   "language": "python",
   "name": "python3"
  },
  "language_info": {
   "codemirror_mode": {
    "name": "ipython",
    "version": 3
   },
   "file_extension": ".py",
   "mimetype": "text/x-python",
   "name": "python",
   "nbconvert_exporter": "python",
   "pygments_lexer": "ipython3",
   "version": "3.10.4"
  },
  "vscode": {
   "interpreter": {
    "hash": "aee8b7b246df8f9039afb4144a1f6fd8d2ca17a180786b69acc140d282b71a49"
   }
  }
 },
 "nbformat": 4,
 "nbformat_minor": 5
}
