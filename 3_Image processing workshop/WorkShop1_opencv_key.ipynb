{
 "cells": [
  {
   "cell_type": "markdown",
   "metadata": {},
   "source": [
    "# OpenCV implementation\n",
    "\n",
    "see more \n",
    "https://github.com/PacktPublishing/OpenCV-3-x-with-Python-By-Example"
   ]
  },
  {
   "cell_type": "code",
   "execution_count": null,
   "metadata": {},
   "outputs": [],
   "source": [
    "!wget -P --no-check-certificate images 'https://docs.google.com/uc?export=download&id=1T1KGnW1sxHtgaUmGJ7Fx-pCpFOU7bnDw' -O input.mp4\n",
    "!wget -P --no-check-certificate images 'https://docs.google.com/uc?export=download&id=1Kno1QwktHRvDIwKvsdZeWFimLydXKKjb' -O input.jpg"
   ]
  },
  {
   "cell_type": "markdown",
   "metadata": {},
   "source": [
    "## getting image input"
   ]
  },
  {
   "cell_type": "markdown",
   "metadata": {},
   "source": [
    "### 1. reading image"
   ]
  },
  {
   "cell_type": "markdown",
   "metadata": {},
   "source": [
    "```python\n",
    "# loading python packet library\n",
    "import cv2\n",
    "\n",
    "# directory path of input image\n",
    "img_path = './images/input.jpg' \n",
    "\n",
    "# method loads an image from the specified file\n",
    "img = cv2.imread(img_path) \n",
    "\n",
    "# method displays an image in a window\n",
    "cv2.imshow('Input image', img)\n",
    "\n",
    "# waiting in milliseconds until press any button on the keyword\n",
    "cv2.waitKey()\n",
    "\n",
    "# destroys all the windows we created\n",
    "cv2.destroyAllWindows()\n",
    "```"
   ]
  },
  {
   "cell_type": "code",
   "execution_count": null,
   "metadata": {},
   "outputs": [],
   "source": [
    "# loading python packet library\n",
    "import cv2\n",
    "\n",
    "# directory path of input image\n",
    "img_path = './images/input.jpg' \n",
    "\n",
    "# method loads an image from the specified file\n",
    "img = cv2.imread(img_path) \n",
    "\n",
    "# method displays an image in a window\n",
    "cv2.imshow('Input image', img)\n",
    "\n",
    "# waiting in milliseconds until press any button on the keyword\n",
    "cv2.waitKey()\n",
    "\n",
    "# destroys all the windows we created\n",
    "cv2.destroyAllWindows()"
   ]
  },
  {
   "cell_type": "markdown",
   "metadata": {},
   "source": [
    "### 2. reading video"
   ]
  },
  {
   "cell_type": "markdown",
   "metadata": {},
   "source": [
    "```python\n",
    "# method loads a video from the specified file\n",
    "cap = cv2.VideoCapture(vdo_path)\n",
    "\n",
    "# check if the video is available\n",
    "cap.isOpened()\n",
    "\n",
    "# method captures each frame from video and reading one frame at a time\n",
    "ret, frame = cap.read()\n",
    "\n",
    "# method resizes image\n",
    "frame = cv2.resize(frame, None, fx=0.5, fy=0.5, interpolation=cv2.INTER_AREA)\n",
    "\n",
    "# closes video file or capturing device.\n",
    "cap.release() \n",
    "```"
   ]
  },
  {
   "cell_type": "code",
   "execution_count": null,
   "metadata": {},
   "outputs": [],
   "source": [
    "# loading python packet library\n",
    "import cv2\n",
    "\n",
    "# method loads a video from the specified file\n",
    "cap = cv2.VideoCapture('./images/input.mp4')\n",
    "\n",
    "# check if the video is available\n",
    "if not cap.isOpened(): \n",
    "    raise IOError(\"Video is not available\") \n",
    "\n",
    "# loop true\n",
    "while(True):\n",
    "    # method captures each frame from video and reading one frame at a time\n",
    "    ret, frame = cap.read()\n",
    "\n",
    "    # method resizes image\n",
    "    frame = cv2.resize(frame, None, fx=0.5, fy=0.5, interpolation=cv2.INTER_AREA)\n",
    "\n",
    "    # method displays an image in a window\n",
    "    cv2.imshow('frame',frame)\n",
    "    \n",
    "    # waiting in milliseconds until press any button on the keyword\n",
    "    c = cv2.waitKey(1) \n",
    "    if c == 27: \n",
    "        break \n",
    "\n",
    "# waiting in milliseconds until press any button on the keyword\n",
    "cv2.waitKey()\n",
    "\n",
    "# closes video file or capturing device.\n",
    "cap.release() \n",
    "\n",
    "# destroys all the windows we created\n",
    "cv2.destroyAllWindows()"
   ]
  },
  {
   "cell_type": "markdown",
   "metadata": {},
   "source": [
    "### 3. accessing webcam"
   ]
  },
  {
   "cell_type": "markdown",
   "metadata": {},
   "source": [
    "```python\n",
    "# method loads a video from camera\n",
    "cap = cv2.VideoCapture(0)\n",
    "\n",
    "# check if the webcam is opened correctly\n",
    "cap.isOpened()\n",
    "```"
   ]
  },
  {
   "cell_type": "code",
   "execution_count": null,
   "metadata": {},
   "outputs": [],
   "source": [
    "# loading python packet library\n",
    "import cv2\n",
    "\n",
    "# method loads a video from camera\n",
    "cap = cv2.VideoCapture(0)\n",
    " \n",
    "# check if the webcam is opened correctl\n",
    "if not cap.isOpened(): \n",
    "    raise IOError(\"Cannot open webcam\") \n",
    " \n",
    "while True: \n",
    "    # method captures each frame from video and reading one frame at a time\n",
    "    ret, frame = cap.read()\n",
    "\n",
    "    # method resizes image\n",
    "    frame = cv2.resize(frame, None, fx=0.5, fy=0.5, interpolation=cv2.INTER_AREA)\n",
    "\n",
    "    # method displays an image in a window\n",
    "    cv2.imshow('frame',frame)\n",
    " \n",
    "    # waiting in milliseconds until press any button on the keyword\n",
    "    c = cv2.waitKey(1) \n",
    "    if c == 27: \n",
    "        break \n",
    "\n",
    "# waiting in milliseconds until press any button on the keyword\n",
    "cv2.waitKey()\n",
    "\n",
    "# closes video file or capturing device.\n",
    "cap.release() \n",
    "\n",
    "# destroys all the windows we created\n",
    "cv2.destroyAllWindows()"
   ]
  },
  {
   "cell_type": "markdown",
   "metadata": {},
   "source": [
    "## writting output"
   ]
  },
  {
   "cell_type": "markdown",
   "metadata": {},
   "source": [
    "### 1. save image"
   ]
  },
  {
   "cell_type": "markdown",
   "metadata": {},
   "source": [
    "```python\n",
    "# method saves an image to the specified file\n",
    "cv2.imwrite('images/copy_input.jpg', img)\n",
    "```"
   ]
  },
  {
   "cell_type": "code",
   "execution_count": null,
   "metadata": {},
   "outputs": [],
   "source": [
    "# loading python packet library\n",
    "import cv2\n",
    "\n",
    "# method loads an image from the specified file\n",
    "img = cv2.imread('./images/input.jpg')\n",
    "\n",
    "# method saves an image to the specified file\n",
    "cv2.imwrite('images/copy_input.jpg', img)"
   ]
  },
  {
   "cell_type": "markdown",
   "metadata": {},
   "source": [
    "### 2. save video"
   ]
  },
  {
   "cell_type": "markdown",
   "metadata": {},
   "source": [
    "```python\n",
    "# get width&height of video\n",
    "frame_width = int(cap.get(3))\n",
    "frame_height = int(cap.get(4))\n",
    "\n",
    "# method defines video writer\n",
    "result = cv2.VideoWriter('./images/copy_input.mp4', \n",
    "                         cv2.VideoWriter_fourcc(*'MP4V'),\n",
    "                         fps, size)\n",
    "\n",
    "# method saves a video to the specified file\n",
    "result.write(frame)\n",
    "\n",
    "# closes video writer\n",
    "result.release()\n",
    "```"
   ]
  },
  {
   "cell_type": "code",
   "execution_count": null,
   "metadata": {},
   "outputs": [],
   "source": [
    "# loading python packet library\n",
    "import cv2\n",
    "\n",
    "# method loads a video from the specified file\n",
    "cap = cv2.VideoCapture('./images/input.mp4')\n",
    "\n",
    "# check if the video is available\n",
    "if not cap.isOpened(): \n",
    "    raise IOError(\"Video is not available\") \n",
    "\n",
    "# get width&height of video\n",
    "frame_width = int(cap.get(3))\n",
    "frame_height = int(cap.get(4))\n",
    "size = (frame_width, frame_height)\n",
    "\n",
    "# method saves a video to the specified file\n",
    "result = cv2.VideoWriter('./images/copy_input.mp4', \n",
    "                         cv2.VideoWriter_fourcc(*'MP4V'),\n",
    "                         30, size)\n",
    "\n",
    "while(True):\n",
    "    try:\n",
    "        # method captures each frame from video and reading one frame at a time\n",
    "        ret, frame = cap.read()\n",
    "\n",
    "        # Write the frame into the specified file\n",
    "        result.write(frame)\n",
    "\n",
    "        # method resizes image\n",
    "        frame = cv2.resize(frame, None, fx=0.5, fy=0.5, interpolation=cv2.INTER_AREA)\n",
    "\n",
    "        # method displays an image in a window\n",
    "        cv2.imshow('frame',frame)\n",
    "    \n",
    "        # waiting in milliseconds until press any button on the keyword\n",
    "        c = cv2.waitKey(1) \n",
    "        if c == 27: \n",
    "            break \n",
    "    except:\n",
    "        # closes video file or capturing device.\n",
    "        cap.release() \n",
    "\n",
    "        # closes video writer\n",
    "        result.release()\n",
    "\n",
    "        # destroys all the windows we created\n",
    "        cv2.destroyAllWindows()\n",
    "        break\n",
    "    \n",
    "# When everything done, release the capture\n",
    "cap.release() \n",
    "result.release()\n",
    "cv2.destroyAllWindows()"
   ]
  },
  {
   "cell_type": "markdown",
   "metadata": {},
   "source": [
    "##  scaling image"
   ]
  },
  {
   "cell_type": "markdown",
   "metadata": {},
   "source": [
    "```python\n",
    "# method resizes image with Linear Interpolation\n",
    "img_scaled = cv2.resize(img,None,fx=1.2, fy=1.2, interpolation = cv2.INTER_LINEAR)\n",
    "\n",
    "# method resizes image with Cubic Interpolation\n",
    "img_scaled = cv2.resize(img,None,fx=1.2, fy=1.2, interpolation = cv2.INTER_CUBIC)\n",
    "\n",
    "# method resizes image by specific windows size\n",
    "img_scaled = cv2.resize(img,(450, 400), interpolation = cv2.INTER_AREA)\n",
    "```"
   ]
  },
  {
   "cell_type": "code",
   "execution_count": null,
   "metadata": {},
   "outputs": [],
   "source": [
    "# loading python packet library\n",
    "import cv2\n",
    "\n",
    "# method loads an image from the specified file\n",
    "img = cv2.imread('images/input.jpg')\n",
    "\n",
    "# method resizes image with Linear Interpolation\n",
    "img_scaled = cv2.resize(img,None,fx=1.2, fy=1.2, interpolation = cv2.INTER_LINEAR)\n",
    "# method displays an image in a window\n",
    "cv2.imshow('Scaling - Linear Interpolation', img_scaled)\n",
    "\n",
    "# method resizes image with Cubic Interpolation\n",
    "img_scaled = cv2.resize(img,None,fx=1.2, fy=1.2, interpolation = cv2.INTER_CUBIC)\n",
    "# method displays an image in a window\n",
    "cv2.imshow('Scaling - Cubic Interpolation', img_scaled)\n",
    "\n",
    "# method resizes image by specific windows size\n",
    "img_scaled = cv2.resize(img,(450, 400), interpolation = cv2.INTER_AREA)\n",
    "# method displays an image in a window\n",
    "cv2.imshow('Scaling - Skewed Size', img_scaled)\n",
    "\n",
    "# waiting in milliseconds until press any button on the keyword\n",
    "cv2.waitKey()\n",
    "\n",
    "# destroys all the windows we created\n",
    "cv2.destroyAllWindows()"
   ]
  },
  {
   "cell_type": "markdown",
   "metadata": {},
   "source": [
    "## enhacing contrast"
   ]
  },
  {
   "cell_type": "markdown",
   "metadata": {},
   "source": [
    "```python\n",
    "# method loads an image from the specified file & convert RGB color to grayscale\n",
    "img = cv2.imread('images/input.jpg', 0)\n",
    "\n",
    "# equalize the histogram of the input image \n",
    "histeq = cv2.equalizeHist(img) \n",
    "```"
   ]
  },
  {
   "cell_type": "code",
   "execution_count": null,
   "metadata": {},
   "outputs": [],
   "source": [
    "# loading python packet library\n",
    "import cv2 \n",
    "\n",
    "# method loads an image from the specified file & convert RGB color to grayscale\n",
    "img = cv2.imread('images/input.jpg', 0) \n",
    " \n",
    "# equalize the histogram of the input image \n",
    "histeq = cv2.equalizeHist(img) \n",
    "\n",
    "# method displays an input image in a window\n",
    "cv2.imshow('Input', img) \n",
    "\n",
    "# method displays a equalized image in a window\n",
    "cv2.imshow('Histogram equalized', histeq) \n",
    "\n",
    "# waiting in milliseconds until press any button on the keyword\n",
    "cv2.waitKey(0)\n",
    "\n",
    "# destroys all the windows we created\n",
    "cv2.destroyAllWindows()"
   ]
  },
  {
   "cell_type": "markdown",
   "metadata": {},
   "source": [
    "## keyboard inputs"
   ]
  },
  {
   "cell_type": "markdown",
   "metadata": {},
   "source": [
    "```python\n",
    "# method converts color from BGR to GRAYSCALE\n",
    "output = cv2.cvtColor(frame, cv2.COLOR_BGR2GRAY) \n",
    "\n",
    "# method converts color from BGR to YUV\n",
    "output = cv2.cvtColor(frame, cv2.COLOR_BGR2YUV) \n",
    "\n",
    "# method converts color from BGR to HSV\n",
    "output = cv2.cvtColor(frame, cv2.COLOR_BGR2HSV)\n",
    "```"
   ]
  },
  {
   "cell_type": "code",
   "execution_count": null,
   "metadata": {},
   "outputs": [],
   "source": [
    "# loading python packet library\n",
    "import cv2 \n",
    "\n",
    "# show description\n",
    "def print_howto(): \n",
    "    print(\"\"\"\n",
    "        Change color space of the\n",
    "        input video stream using keyboard controls. The control keys are: \n",
    "            1. Grayscale - press 'g'\n",
    "            2. YUV - press 'y'\n",
    "            3. HSV - press 'h'\n",
    "    \"\"\")\n",
    "\n",
    "if __name__=='__main__': \n",
    "    print_howto() \n",
    "\n",
    "    # method loads a video from camera\n",
    "    cap = cv2.VideoCapture(0) \n",
    " \n",
    "    # check if the webcam is opened correctly \n",
    "    if not cap.isOpened(): \n",
    "        raise IOError(\"Cannot open webcam\") \n",
    "\n",
    "    cur_mode = None\n",
    "    while True: \n",
    "        # method captures each frame from video and reading one frame at a time\n",
    "        ret, frame = cap.read() \n",
    " \n",
    "        # method resizes image\n",
    "        frame = cv2.resize(frame, None, fx=0.5, fy=0.5, interpolation=cv2.INTER_AREA) \n",
    "\n",
    "        # waiting in milliseconds until press any button on the keyword\n",
    "        c = cv2.waitKey(1)\n",
    "        if c == 27: \n",
    "            break \n",
    " \n",
    "        if c != -1 and c != 255 and c != cur_mode:\n",
    "            cur_mode = c \n",
    " \n",
    "        if cur_mode == ord('g'): \n",
    "            output = cv2.cvtColor(frame, cv2.COLOR_BGR2GRAY) \n",
    "        elif cur_mode == ord('y'): \n",
    "            output = cv2.cvtColor(frame, cv2.COLOR_BGR2YUV) \n",
    "        elif cur_mode == ord('h'): \n",
    "            output = cv2.cvtColor(frame, cv2.COLOR_BGR2HSV) \n",
    "        else: \n",
    "            output = frame \n",
    "        # method displays a equalized image in a window\n",
    "        cv2.imshow('Webcam', output) \n",
    " \n",
    "    # method displays an image in a window\n",
    "    cap.release() \n",
    "    \n",
    "    # destroys all the windows we created\n",
    "    cv2.destroyAllWindows() "
   ]
  }
 ],
 "metadata": {
  "kernelspec": {
   "display_name": "Python 3.10.4 64-bit",
   "language": "python",
   "name": "python3"
  },
  "language_info": {
   "codemirror_mode": {
    "name": "ipython",
    "version": 3
   },
   "file_extension": ".py",
   "mimetype": "text/x-python",
   "name": "python",
   "nbconvert_exporter": "python",
   "pygments_lexer": "ipython3",
   "version": "3.10.4"
  },
  "orig_nbformat": 4,
  "vscode": {
   "interpreter": {
    "hash": "aee8b7b246df8f9039afb4144a1f6fd8d2ca17a180786b69acc140d282b71a49"
   }
  }
 },
 "nbformat": 4,
 "nbformat_minor": 2
}
